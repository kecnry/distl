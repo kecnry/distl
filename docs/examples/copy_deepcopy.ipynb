{
 "cells": [
  {
   "cell_type": "code",
   "execution_count": 1,
   "metadata": {},
   "outputs": [],
   "source": [
    "import distl\n",
    "import numpy as np"
   ]
  },
  {
   "cell_type": "markdown",
   "metadata": {},
   "source": [
    "# Copy vs Deepcopy\n",
    "\n"
   ]
  },
  {
   "cell_type": "code",
   "execution_count": 2,
   "metadata": {},
   "outputs": [],
   "source": [
    "d = distl.gaussian(5, 1)"
   ]
  },
  {
   "cell_type": "code",
   "execution_count": 3,
   "metadata": {},
   "outputs": [
    {
     "name": "stdout",
     "output_type": "stream",
     "text": [
      "kpPghPWbAEWQYASbuiGr\n"
     ]
    }
   ],
   "source": [
    "print(d.uniqueid)"
   ]
  },
  {
   "cell_type": "code",
   "execution_count": 4,
   "metadata": {},
   "outputs": [
    {
     "name": "stdout",
     "output_type": "stream",
     "text": [
      "kpPghPWbAEWQYASbuiGr\n"
     ]
    }
   ],
   "source": [
    "print(d.copy().uniqueid)"
   ]
  },
  {
   "cell_type": "code",
   "execution_count": 5,
   "metadata": {},
   "outputs": [
    {
     "name": "stdout",
     "output_type": "stream",
     "text": [
      "aRnZTybnOaEGvCAHlOVo\n"
     ]
    }
   ],
   "source": [
    "print(d.deepcopy().uniqueid)"
   ]
  },
  {
   "cell_type": "markdown",
   "metadata": {},
   "source": [
    "# Implications in CompositeDistributions"
   ]
  },
  {
   "cell_type": "code",
   "execution_count": 6,
   "metadata": {},
   "outputs": [],
   "source": [
    "d = distl.gaussian(5, 1)"
   ]
  },
  {
   "cell_type": "code",
   "execution_count": 11,
   "metadata": {},
   "outputs": [
    {
     "name": "stdout",
     "output_type": "stream",
     "text": [
      "YYBpLUmOeIZUqPIowCCs\n"
     ]
    }
   ],
   "source": [
    "print(d.uniqueid)"
   ]
  },
  {
   "cell_type": "code",
   "execution_count": 12,
   "metadata": {},
   "outputs": [
    {
     "name": "stdout",
     "output_type": "stream",
     "text": [
      "YYBpLUmOeIZUqPIowCCs\n"
     ]
    }
   ],
   "source": [
    "print((5*d).uniqueid)"
   ]
  },
  {
   "cell_type": "code",
   "execution_count": 7,
   "metadata": {},
   "outputs": [],
   "source": [
    "comp = d + 5*d"
   ]
  },
  {
   "cell_type": "code",
   "execution_count": 8,
   "metadata": {},
   "outputs": [
    {
     "data": {
      "image/png": "[encoded data removed]",
      "text/plain": [
       "<Figure size 432x288 with 1 Axes>"
      ]
     },
     "metadata": {
      "needs_background": "light"
     },
     "output_type": "display_data"
    }
   ],
   "source": [
    "_ = comp.plot(show=True)"
   ]
  },
  {
   "cell_type": "code",
   "execution_count": 9,
   "metadata": {},
   "outputs": [
    {
     "data": {
      "text/plain": [
       "<distl.composite <distl.gaussian loc=5.0 scale=1.0> + <distl.gaussian loc=25.0 scale=5.0> unit=None>"
      ]
     },
     "execution_count": 9,
     "metadata": {},
     "output_type": "execute_result"
    }
   ],
   "source": [
    "comp"
   ]
  },
  {
   "cell_type": "code",
   "execution_count": 10,
   "metadata": {},
   "outputs": [
    {
     "data": {
      "text/plain": [
       "{'math': '__add__',\n",
       " 'dists': [{'loc': 5.0,\n",
       "   'scale': 1.0,\n",
       "   'distl': 'Gaussian',\n",
       "   'distl.version': '0.1.0',\n",
       "   'uniqueid': 'YYBpLUmOeIZUqPIowCCs'},\n",
       "  {'loc': 25.0,\n",
       "   'scale': 5.0,\n",
       "   'distl': 'Gaussian',\n",
       "   'distl.version': '0.1.0',\n",
       "   'uniqueid': 'YYBpLUmOeIZUqPIowCCs'}],\n",
       " 'distl': 'Composite',\n",
       " 'distl.version': '0.1.0',\n",
       " 'uniqueid': 'YYBpLUmOeIZUqPIowCCs,YYBpLUmOeIZUqPIowCCs'}"
      ]
     },
     "execution_count": 10,
     "metadata": {},
     "output_type": "execute_result"
    }
   ],
   "source": [
    "comp.to_dict()"
   ]
  },
  {
   "cell_type": "code",
   "execution_count": null,
   "metadata": {},
   "outputs": [],
   "source": []
  }
 ],
 "metadata": {
  "kernelspec": {
   "display_name": "Python 3",
   "language": "python",
   "name": "python3"
  },
  "language_info": {
   "codemirror_mode": {
    "name": "ipython",
    "version": 3
   },
   "file_extension": ".py",
   "mimetype": "text/x-python",
   "name": "python",
   "nbconvert_exporter": "python",
   "pygments_lexer": "ipython3",
   "version": "3.8.5"
  }
 },
 "nbformat": 4,
 "nbformat_minor": 2
}
